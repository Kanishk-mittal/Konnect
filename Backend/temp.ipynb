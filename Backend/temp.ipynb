{
 "cells": [
  {
   "cell_type": "code",
   "execution_count": 1,
   "metadata": {},
   "outputs": [],
   "source": [
    "from cryptography.hazmat.primitives.asymmetric import rsa, padding\n",
    "from cryptography.hazmat.primitives import serialization"
   ]
  },
  {
   "cell_type": "code",
   "execution_count": null,
   "metadata": {},
   "outputs": [],
   "source": [
    "import os\n",
    "from cryptography.hazmat.primitives.asymmetric import rsa\n",
    "from cryptography.hazmat.primitives import serialization\n",
    "\n",
    "KEYS_DIR = \"keys\"\n",
    "PRIVATE_KEY_PATH = os.path.join(KEYS_DIR, \"private_key.pem\")\n",
    "PUBLIC_KEY_PATH = os.path.join(KEYS_DIR, \"public_key.pem\")\n",
    "\n",
    "# Ensure the keys directory exists\n",
    "os.makedirs(KEYS_DIR, exist_ok=True)\n",
    "\n",
    "def generate_keys():\n",
    "    \"\"\"Generate RSA key pair and store them in files if not already stored.\"\"\"\n",
    "    if not os.path.exists(PRIVATE_KEY_PATH) or not os.path.exists(PUBLIC_KEY_PATH):\n",
    "        private_key = rsa.generate_private_key(\n",
    "            public_exponent=65537,\n",
    "            key_size=2048\n",
    "        )\n",
    "        public_key = private_key.public_key()\n",
    "\n",
    "        with open(PRIVATE_KEY_PATH, \"wb\") as private_file:\n",
    "            private_file.write(private_key.private_bytes(\n",
    "                encoding=serialization.Encoding.PEM,\n",
    "                format=serialization.PrivateFormat.PKCS8,\n",
    "                encryption_algorithm=serialization.NoEncryption()\n",
    "            ))\n",
    "\n",
    "        with open(PUBLIC_KEY_PATH, \"wb\") as public_file:\n",
    "            public_file.write(public_key.public_bytes(\n",
    "                encoding=serialization.Encoding.PEM,\n",
    "                format=serialization.PublicFormat.SubjectPublicKeyInfo\n",
    "            ))\n",
    "\n",
    "\n",
    "def get_private_key():\n",
    "    \"\"\"Load the private key from the file.\"\"\"\n",
    "    with open(PRIVATE_KEY_PATH, \"rb\") as key_file:\n",
    "        return serialization.load_pem_private_key(\n",
    "            key_file.read(),\n",
    "            password=None\n",
    "        )\n",
    "\n",
    "def get_public_key():\n",
    "    \"\"\"Load the public key from the file.\"\"\"\n",
    "    with open(PUBLIC_KEY_PATH, \"rb\") as key_file:\n",
    "        return serialization.load_pem_public_key(key_file.read())\n",
    "\n",
    "# Generate keys if not present\n",
    "generate_keys()\n"
   ]
  }
 ],
 "metadata": {
  "kernelspec": {
   "display_name": ".venv",
   "language": "python",
   "name": "python3"
  },
  "language_info": {
   "codemirror_mode": {
    "name": "ipython",
    "version": 3
   },
   "file_extension": ".py",
   "mimetype": "text/x-python",
   "name": "python",
   "nbconvert_exporter": "python",
   "pygments_lexer": "ipython3",
   "version": "3.12.3"
  }
 },
 "nbformat": 4,
 "nbformat_minor": 2
}
