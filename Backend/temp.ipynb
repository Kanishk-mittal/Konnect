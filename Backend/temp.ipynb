{
 "cells": [
  {
   "cell_type": "code",
   "execution_count": 1,
   "metadata": {},
   "outputs": [],
   "source": [
    "from cryptography.hazmat.primitives.asymmetric import rsa, padding\n",
    "from cryptography.hazmat.primitives import serialization"
   ]
  },
  {
   "cell_type": "code",
   "execution_count": null,
   "metadata": {},
   "outputs": [],
   "source": [
    "import os\n",
    "from cryptography.hazmat.primitives.asymmetric import rsa\n",
    "from cryptography.hazmat.primitives import serialization\n",
    "\n",
    "KEYS_DIR = \"keys\"\n",
    "PRIVATE_KEY_PATH = os.path.join(KEYS_DIR, \"private_key.pem\")\n",
    "PUBLIC_KEY_PATH = os.path.join(KEYS_DIR, \"public_key.pem\")\n",
    "\n",
    "# Ensure the keys directory exists\n",
    "os.makedirs(KEYS_DIR, exist_ok=True)\n",
    "\n",
    "def generate_keys():\n",
    "    \"\"\"Generate RSA key pair and store them in files if not already stored.\"\"\"\n",
    "    if not os.path.exists(PRIVATE_KEY_PATH) or not os.path.exists(PUBLIC_KEY_PATH):\n",
    "        private_key = rsa.generate_private_key(\n",
    "            public_exponent=65537,\n",
    "            key_size=2048\n",
    "        )\n",
    "        public_key = private_key.public_key()\n",
    "\n",
    "        with open(PRIVATE_KEY_PATH, \"wb\") as private_file:\n",
    "            private_file.write(private_key.private_bytes(\n",
    "                encoding=serialization.Encoding.PEM,\n",
    "                format=serialization.PrivateFormat.PKCS8,\n",
    "                encryption_algorithm=serialization.NoEncryption()\n",
    "            ))\n",
    "\n",
    "        with open(PUBLIC_KEY_PATH, \"wb\") as public_file:\n",
    "            public_file.write(public_key.public_bytes(\n",
    "                encoding=serialization.Encoding.PEM,\n",
    "                format=serialization.PublicFormat.SubjectPublicKeyInfo\n",
    "            ))\n",
    "\n",
    "\n",
    "def get_private_key():\n",
    "    \"\"\"Load the private key from the file.\"\"\"\n",
    "    with open(PRIVATE_KEY_PATH, \"rb\") as key_file:\n",
    "        return serialization.load_pem_private_key(\n",
    "            key_file.read(),\n",
    "            password=None\n",
    "        )\n",
    "\n",
    "def get_public_key():\n",
    "    \"\"\"Load the public key from the file.\"\"\"\n",
    "    with open(PUBLIC_KEY_PATH, \"rb\") as key_file:\n",
    "        return serialization.load_pem_public_key(key_file.read())\n",
    "\n",
    "# Generate keys if not present\n",
    "generate_keys()\n"
   ]
  },
  {
   "cell_type": "code",
   "execution_count": 2,
   "metadata": {},
   "outputs": [
    {
     "name": "stdout",
     "output_type": "stream",
     "text": [
      "Plain Text: Hello, AES CBC!\n",
      "Encrypted Text: 3J3lXsK9Zv5V1yhc3cHweXxLxGVOQjfKBsy9Yvev2RE=\n",
      "Decrypted Text: Hello, AES CBC!\n"
     ]
    }
   ],
   "source": [
    "import os\n",
    "from Crypto.Cipher import AES\n",
    "from Crypto.Util.Padding import pad, unpad\n",
    "from Crypto.Random import get_random_bytes\n",
    "import base64\n",
    "\n",
    "# Retrieve AES key from environment or generate a new one\n",
    "key_env = os.getenv(\"AES_KEY\")  \n",
    "KEY = base64.b64decode(key_env)  # Decode Base64 key from env variable\n",
    "\n",
    "def encrypt_AES_CBC(plain_text):\n",
    "    iv = get_random_bytes(16)  # Generate random IV\n",
    "    cipher = AES.new(KEY, AES.MODE_CBC, iv)\n",
    "    encrypted_bytes = cipher.encrypt(pad(plain_text.encode(), AES.block_size))\n",
    "    return base64.b64encode(iv + encrypted_bytes).decode()  # Encode IV + ciphertext\n",
    "\n",
    "def decrypt_AES_CBC(encrypted_text):\n",
    "    encrypted_data = base64.b64decode(encrypted_text)\n",
    "    iv = encrypted_data[:16]  # Extract IV\n",
    "    cipher = AES.new(KEY, AES.MODE_CBC, iv)\n",
    "    decrypted_bytes = unpad(cipher.decrypt(encrypted_data[16:]), AES.block_size)\n",
    "    return decrypted_bytes.decode()\n",
    "\n",
    "# Example usage\n",
    "plain_text = \"Hello, AES CBC!\"\n",
    "encrypted_text = encrypt_AES_CBC(plain_text)\n",
    "decrypted_text = decrypt_AES_CBC(encrypted_text)\n",
    "\n",
    "print(\"Plain Text:\", plain_text)\n",
    "print(\"Encrypted Text:\", encrypted_text)\n",
    "print(\"Decrypted Text:\", decrypted_text)\n"
   ]
  }
 ],
 "metadata": {
  "kernelspec": {
   "display_name": ".venv",
   "language": "python",
   "name": "python3"
  },
  "language_info": {
   "codemirror_mode": {
    "name": "ipython",
    "version": 3
   },
   "file_extension": ".py",
   "mimetype": "text/x-python",
   "name": "python",
   "nbconvert_exporter": "python",
   "pygments_lexer": "ipython3",
   "version": "3.12.3"
  }
 },
 "nbformat": 4,
 "nbformat_minor": 2
}
